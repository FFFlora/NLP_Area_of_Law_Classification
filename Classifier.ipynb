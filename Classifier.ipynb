{
 "cells": [
  {
   "cell_type": "code",
   "execution_count": 1,
   "metadata": {},
   "outputs": [
    {
     "data": {
      "text/plain": [
       "'\\n1. predict the unlabeled data (Naive Bayes, SVM)\\n2. evaluate the accuracy,f1,ruc,etc?? (check with the doc later)\\n3. Topic Modeling\\n4. wordcloud(maybe,if applicable)\\n5. visualization(maybe, if applicable)\\n6. think about some other fun questions about this data set\\n\\n'"
      ]
     },
     "execution_count": 1,
     "metadata": {},
     "output_type": "execute_result"
    }
   ],
   "source": [
    "#TODO\n",
    "\n",
    "\"\"\"\n",
    "1. predict the unlabeled data (Naive Bayes, SVM)\n",
    "2. evaluate the accuracy,f1,ruc,etc?? (check with the doc later)\n",
    "3. Topic Modeling\n",
    "4. wordcloud(maybe,if applicable)\n",
    "5. visualization(maybe, if applicable)\n",
    "6. think about some other fun questions about this data set\n",
    "\n",
    "\"\"\""
   ]
  },
  {
   "cell_type": "code",
   "execution_count": 2,
   "metadata": {
    "scrolled": true
   },
   "outputs": [],
   "source": [
    "import pandas as pd\n",
    "\n",
    "\n",
    "#settings\n",
    "pd.options.display.max_rows=10"
   ]
  },
  {
   "cell_type": "code",
   "execution_count": 3,
   "metadata": {
    "scrolled": true
   },
   "outputs": [
    {
     "data": {
      "text/html": [
       "<div>\n",
       "<style scoped>\n",
       "    .dataframe tbody tr th:only-of-type {\n",
       "        vertical-align: middle;\n",
       "    }\n",
       "\n",
       "    .dataframe tbody tr th {\n",
       "        vertical-align: top;\n",
       "    }\n",
       "\n",
       "    .dataframe thead th {\n",
       "        text-align: right;\n",
       "    }\n",
       "</style>\n",
       "<table border=\"1\" class=\"dataframe\">\n",
       "  <thead>\n",
       "    <tr style=\"text-align: right;\">\n",
       "      <th></th>\n",
       "      <th>Judgements</th>\n",
       "      <th>Area.of.Law</th>\n",
       "    </tr>\n",
       "  </thead>\n",
       "  <tbody>\n",
       "    <tr>\n",
       "      <th>0</th>\n",
       "      <td>LNIND_1988_CAL_114</td>\n",
       "      <td>To be Tested</td>\n",
       "    </tr>\n",
       "    <tr>\n",
       "      <th>1</th>\n",
       "      <td>LNIND_1956_CAL_163</td>\n",
       "      <td>To be Tested</td>\n",
       "    </tr>\n",
       "    <tr>\n",
       "      <th>2</th>\n",
       "      <td>LNIND_1976_CAL_277</td>\n",
       "      <td>To be Tested</td>\n",
       "    </tr>\n",
       "    <tr>\n",
       "      <th>3</th>\n",
       "      <td>LNIND_1980_CAL_52</td>\n",
       "      <td>To be Tested</td>\n",
       "    </tr>\n",
       "    <tr>\n",
       "      <th>4</th>\n",
       "      <td>LNIND_1955_CAL_124</td>\n",
       "      <td>To be Tested</td>\n",
       "    </tr>\n",
       "    <tr>\n",
       "      <th>...</th>\n",
       "      <td>...</td>\n",
       "      <td>...</td>\n",
       "    </tr>\n",
       "    <tr>\n",
       "      <th>994</th>\n",
       "      <td>LNIND_1993_DEL_112</td>\n",
       "      <td>Criminal Laws</td>\n",
       "    </tr>\n",
       "    <tr>\n",
       "      <th>995</th>\n",
       "      <td>LNIND_1988_CAL_83</td>\n",
       "      <td>Service Law</td>\n",
       "    </tr>\n",
       "    <tr>\n",
       "      <th>996</th>\n",
       "      <td>LNIND_1993_DEL_16</td>\n",
       "      <td>Criminal Laws</td>\n",
       "    </tr>\n",
       "    <tr>\n",
       "      <th>997</th>\n",
       "      <td>LNIND_1957_CAL_46</td>\n",
       "      <td>Succession Laws</td>\n",
       "    </tr>\n",
       "    <tr>\n",
       "      <th>998</th>\n",
       "      <td>LNIND_1954_CAL_141</td>\n",
       "      <td>Government Contracts</td>\n",
       "    </tr>\n",
       "  </tbody>\n",
       "</table>\n",
       "<p>999 rows × 2 columns</p>\n",
       "</div>"
      ],
      "text/plain": [
       "             Judgements           Area.of.Law\n",
       "0    LNIND_1988_CAL_114          To be Tested\n",
       "1    LNIND_1956_CAL_163          To be Tested\n",
       "2    LNIND_1976_CAL_277          To be Tested\n",
       "3     LNIND_1980_CAL_52          To be Tested\n",
       "4    LNIND_1955_CAL_124          To be Tested\n",
       "..                  ...                   ...\n",
       "994  LNIND_1993_DEL_112         Criminal Laws\n",
       "995   LNIND_1988_CAL_83           Service Law\n",
       "996   LNIND_1993_DEL_16         Criminal Laws\n",
       "997   LNIND_1957_CAL_46       Succession Laws\n",
       "998  LNIND_1954_CAL_141  Government Contracts\n",
       "\n",
       "[999 rows x 2 columns]"
      ]
     },
     "execution_count": 3,
     "metadata": {},
     "output_type": "execute_result"
    }
   ],
   "source": [
    "mapping = pd.read_csv('data/Interview_Mapping.csv')\n",
    "mapping"
   ]
  },
  {
   "cell_type": "code",
   "execution_count": 27,
   "metadata": {},
   "outputs": [
    {
     "data": {
      "text/plain": [
       "41"
      ]
     },
     "execution_count": 27,
     "metadata": {},
     "output_type": "execute_result"
    }
   ],
   "source": [
    "# create labels\n",
    "unlabeled = []\n",
    "labeled = []\n",
    "labels = []\n",
    "\n",
    "for index,row in mapping.iterrows():\n",
    "    if row['Area.of.Law'] == 'To be Tested':\n",
    "        unlabeled.append(row['Judgements'])\n",
    "    else: \n",
    "        labeled.append(row['Judgements'])\n",
    "        labels.append(row['Area.of.Law'])\n",
    "        \n",
    "# how much unique area of law        \n",
    "len(set(labels))"
   ]
  },
  {
   "cell_type": "code",
   "execution_count": 33,
   "metadata": {},
   "outputs": [],
   "source": [
    "# load files\n",
    "import os\n",
    "count=0\n",
    "unlabeled_text=[]\n",
    "labeled_text=[]\n",
    "\n",
    "for name in unlabeled:\n",
    "    path = os.path.join('data/',name+'.txt')\n",
    "    with open(path,'r',errors = 'ignore') as f:\n",
    "        unlabeled_text.append(f.read())\n",
    "for name in labeled:\n",
    "    path = os.path.join('data/',name+'.txt')\n",
    "    with open(path,'r',errors = 'ignore') as f:\n",
    "        labeled_text.append(f.read())\n"
   ]
  },
  {
   "cell_type": "code",
   "execution_count": 34,
   "metadata": {},
   "outputs": [
    {
     "data": {
      "text/plain": [
       "\"â€“ <KYDishonestly receiving stolen property Parties</KY>\\nBharadwaj Singh Versus State Of West Bengal, on the complaint of, Harimati Dasi\\nHigh Court of Judicature at Calcutta\\nJudges THE HONOURABLE CHIEF JUSTICE MR. HARRIES\\nCriminal Revn No. 300 of 1951DOJ 08.05.1951\\nADVOCATES APPEARED:For the Appearing Parties : Kishore Mukharji,M.N.Banerji,N.C.Talukdar,Advocates.\\nJudgment\\nHARRIES, C. J.\\n<FC>(1) THIS is a petition for revision of orders of the Courts below convicting the petitioner of an offence under   <PV>Section 411</PV>, <LG>I. P. C.</LG> , and sentencing him to pay a fine of Rs. 200/- and in default of payment of the said fine, to undergo rigorous imprisonment for three months.</FC>\\n(2) THE charge against the petitioner was that he was in possession of a cow knowing the same to be stolen or having reasonable grounds for believing that the same was stolen. A learned Magistrate found him guilty and sentenced him as I have indicated. On appeal the conviction and sentence were affirmed by the learned Additional Sessions Judge of Ali-pore.\\n(3) AT the outset I should like to point out that if this man was guilty of receiving a stolen cow, then a fine of Rs. 200/- was quite inadequate. Life in,villages in Bengal and elsewhere would become quite impossible if theft of cattle and the crime of receiving stolen cattle were dealt with leniently. Stealing a villager's cow is a very serious offence, and so is, being in possession of such a cow knowing it to be stolen. But for the view I take on the question of guilt, I should have no hesitation in issuing a notice to enhance this sentence.\\n(4) THE case for the prosecution was that the cow in question belonged to the complainant Harimati Dasi. The cow was found to be missing about the end of February 1948 and on March 12, 1948 the complainant reported the matter to the Ekbalpore Police. About two months after she had given the Police information, her missing cow, it was said, was found in the possession of one Fouzdar Sardar. The complainant then filed a petition of complaint against Fouzdar Sardar and the cow was seized under a search warrant issued by a learned Magistrate against Fouzdar Sardar. Whilst the case was pending, Fouzdar Sardar died and the person who was holding the cow was directed to make it over to the complainant. But he refused to do it and the cow was again seized under a search warrant.\\n(5) THE present petitioner Bharadwaj then filed a petition in the court of the Police Magistrate at Alipore claiming this cow as his own and stating that Fouzdar Sardar had been looking after the cow on his behalf. The petitioner claimed the cow and notice was issued upon the complainant who promptly retaliated by praying for process against Bharadwaj under   Section 411, I. P. C.\\n(6) EVIDENCE was adduced before the learned Magistrate that the complainant's cow had strayed and that the cow eventually found in possession of Fouzdar Sardar was the complainant's cow. This evidence was hotly contested by the defence. But I shall assume that it was proved satisfactorily that the cow in the possession of Fouzdar Sardar was the cow which has strayed from the complainant's premises about two or three months earlier.\\n(7) IT was argued in the lower courts that there was no evidence that this cow had been stolen. All the evidence amounts to is that it disappeared and of course it may have strayed. Taking possession however of a straying cow knowing it to be an animal which has strayed might well amount to theft, and I shall assume that this cow was stolen from the complainant by someone.\\n(8) BEING in possession of stolen property is in itself no offence. If it was, all of us I imagine would be in serious danger constantly. Any one in this Court might buy an article today quite openly and honestly and later find that that article had been stolen. If being in possession of stolen property was itself a crime, then an innocent purchase of that sort would render the purchaser liable to conviction for a serious offence. Being in possession of stolen property is only a crime if the person in possession either knows that the property is stolen property or has reasonable grounds for believing that the property had been stolen.\\n(9) TO succeed in a prosecution under  Section 411 I. P. C. , the prosecution must not only prove that the property had been stolen, but they must also, establish facts from which the Court can properly infer that the person charged with, being in possession of stolen property either knew the property to be stolen, or had reasonable grounds for believing the same to have been stolen. Unless there is some prima facie evidence as. to the knowledge of the ac cused then the latter is entitled to be acquit ted, because, as I have said, merely proving that he was in possession of the stolen property establishes no offence of any kind.\\n(10) ASSUMING this cow was stolen and assuming that the cow in the petitioner's possession was identified satisfactorily as the complainant's cow, was there any evidence for the prosecution which would entitle the Court to infer that the petitioner was in possession of the cow knowing the same to be stolen or having reasonable grounds for believing that the same was stolen?\\n(11) LEARNED Advocate for the complainant has to concede that there was no evidence, but he urges that the Courts were entitled to convict the petitioner because they disbelieved his explanation.\\n<HD>(12) IN cases of this kind, the accused is only called upon to offer an explanation when there is a prima facie case against him. There was here no evidence at all as to his knowledge and therefore the accused should have been acquitted upon the evidence for the prosecution. Although there was no case against the accused, the accused was called upon to enter upon his defence and has been convicted merely because the statement of the accused and the evidence of his witnesses have been disbelieved.\\n(13) I do not think it is necessary to point out that an accused cannot be convicted where there is no evidence against him merely because his evidence is disbelieved. If that were so, then countless people would be wrongly convicted merely on the ground that the Court has disbelieved the usual defence tendered, namely, of alibi. Assuming the whole of the evidence for the defence here was false, that would not entitle the Court to hold that the petitioner had the requisite knowledge. If the evidence was false, it had to be eliminated and it would have to be held that it in no way met the case for the prosecution. However, as I have pointed out, the case for the prosecution failed to establish one of the essential elements, namely, the knowledge or state of mind of the accused and that being so, the prosecution was bound to fail. The explanation given by the accused is only material when there is a case against him. It would be monstrous to hold that where there is no evidence against an accused the latter can be called upon to make his defence and then convicted because his defence is disbelieved. That is precisely what has happened in this case, and that being so the conviction and sentence cannot possibly be maintained.\\n(14) IN the result, therefore, this <DP>petition is allowed</DP>, the conviction and sentence are set aside and the accused is acquitted. If the fine or any part thereof has been paid it must be refunded Petition allowed.</HD>\\n\""
      ]
     },
     "execution_count": 34,
     "metadata": {},
     "output_type": "execute_result"
    }
   ],
   "source": []
  },
  {
   "cell_type": "code",
   "execution_count": 11,
   "metadata": {},
   "outputs": [
    {
     "ename": "TypeError",
     "evalue": "join() takes exactly one argument (3 given)",
     "output_type": "error",
     "traceback": [
      "\u001b[1;31m---------------------------------------------------------------------------\u001b[0m",
      "\u001b[1;31mTypeError\u001b[0m                                 Traceback (most recent call last)",
      "\u001b[1;32m<ipython-input-11-fe7227f5d613>\u001b[0m in \u001b[0;36m<module>\u001b[1;34m()\u001b[0m\n\u001b[1;32m----> 1\u001b[1;33m \u001b[1;34m''\u001b[0m\u001b[1;33m.\u001b[0m\u001b[0mjoin\u001b[0m\u001b[1;33m(\u001b[0m\u001b[1;34m'a'\u001b[0m\u001b[1;33m,\u001b[0m\u001b[1;34m'b'\u001b[0m\u001b[1;33m,\u001b[0m\u001b[1;34m'c'\u001b[0m\u001b[1;33m)\u001b[0m\u001b[1;33m\u001b[0m\u001b[0m\n\u001b[0m",
      "\u001b[1;31mTypeError\u001b[0m: join() takes exactly one argument (3 given)"
     ]
    }
   ],
   "source": [
    "# Text pre-processing\n",
    "import nltk\n",
    "from nltk.corpus import stopwords\n",
    "\n",
    "stop = set(stopwords.words('english'))\n",
    "punct = set(string.punctuation)\n",
    "\n",
    "#remove \\n\n",
    "#remove punctuation\n",
    "#remove stopwords\n",
    "#remove links\n",
    "#normaliza text \n",
    "#tokenize\n",
    "#lemmatization\n"
   ]
  }
 ],
 "metadata": {
  "kernelspec": {
   "display_name": "Python 3",
   "language": "python",
   "name": "python3"
  },
  "language_info": {
   "codemirror_mode": {
    "name": "ipython",
    "version": 3
   },
   "file_extension": ".py",
   "mimetype": "text/x-python",
   "name": "python",
   "nbconvert_exporter": "python",
   "pygments_lexer": "ipython3",
   "version": "3.7.0"
  }
 },
 "nbformat": 4,
 "nbformat_minor": 2
}
