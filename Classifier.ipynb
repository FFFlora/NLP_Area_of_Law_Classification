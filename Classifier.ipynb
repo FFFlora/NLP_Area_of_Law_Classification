{
 "cells": [
  {
   "cell_type": "code",
   "execution_count": 1,
   "metadata": {},
   "outputs": [
    {
     "data": {
      "text/plain": [
       "'\\n1. predict the unlabeled data (Naive Bayes, SVM)\\n2. evaluate the accuracy,f1,ruc,etc?? (check with the doc later)\\n3. Topic Modeling\\n4. wordcloud(maybe,if applicable)\\n5. visualization(maybe, if applicable)\\n6. think about some other fun questions about this data set\\n7. paper \\n    Exploring the Use of Text Classification in the Legal Domain - arXiv\\n    https://arxiv.org/pdf/1710.09306\\n    \\n'"
      ]
     },
     "execution_count": 1,
     "metadata": {},
     "output_type": "execute_result"
    }
   ],
   "source": [
    "#TODO\n",
    "\n",
    "\"\"\"\n",
    "1. predict the unlabeled data (Naive Bayes, SVM) XGBoost\n",
    "2. evaluate the accuracy ✓\n",
    "3. Topic Modeling\n",
    "4. wordcloud(maybe,if applicable)\n",
    "5. visualization(maybe, if applicable)\n",
    "6. think about some other fun questions about this data set\n",
    "7. paper \n",
    "    Exploring the Use of Text Classification in the Legal Domain - arXiv\n",
    "    https://arxiv.org/pdf/1710.09306\n",
    "    \n",
    "\"\"\""
   ]
  },
  {
   "cell_type": "code",
   "execution_count": 1,
   "metadata": {
    "scrolled": true
   },
   "outputs": [],
   "source": [
    "import pandas as pd\n",
    "import string \n",
    "import nltk\n",
    "import re \n",
    "import numpy as np"
   ]
  },
  {
   "cell_type": "code",
   "execution_count": 2,
   "metadata": {
    "scrolled": true
   },
   "outputs": [
    {
     "data": {
      "text/html": [
       "<div>\n",
       "<style scoped>\n",
       "    .dataframe tbody tr th:only-of-type {\n",
       "        vertical-align: middle;\n",
       "    }\n",
       "\n",
       "    .dataframe tbody tr th {\n",
       "        vertical-align: top;\n",
       "    }\n",
       "\n",
       "    .dataframe thead th {\n",
       "        text-align: right;\n",
       "    }\n",
       "</style>\n",
       "<table border=\"1\" class=\"dataframe\">\n",
       "  <thead>\n",
       "    <tr style=\"text-align: right;\">\n",
       "      <th></th>\n",
       "      <th>Judgements</th>\n",
       "      <th>Area.of.Law</th>\n",
       "    </tr>\n",
       "  </thead>\n",
       "  <tbody>\n",
       "    <tr>\n",
       "      <th>0</th>\n",
       "      <td>LNIND_1988_CAL_114</td>\n",
       "      <td>To be Tested</td>\n",
       "    </tr>\n",
       "    <tr>\n",
       "      <th>1</th>\n",
       "      <td>LNIND_1956_CAL_163</td>\n",
       "      <td>To be Tested</td>\n",
       "    </tr>\n",
       "    <tr>\n",
       "      <th>2</th>\n",
       "      <td>LNIND_1976_CAL_277</td>\n",
       "      <td>To be Tested</td>\n",
       "    </tr>\n",
       "    <tr>\n",
       "      <th>3</th>\n",
       "      <td>LNIND_1980_CAL_52</td>\n",
       "      <td>To be Tested</td>\n",
       "    </tr>\n",
       "    <tr>\n",
       "      <th>4</th>\n",
       "      <td>LNIND_1955_CAL_124</td>\n",
       "      <td>To be Tested</td>\n",
       "    </tr>\n",
       "    <tr>\n",
       "      <th>5</th>\n",
       "      <td>LNIND_1954_CAL_3</td>\n",
       "      <td>To be Tested</td>\n",
       "    </tr>\n",
       "    <tr>\n",
       "      <th>6</th>\n",
       "      <td>LNIND_1951_CAL_60</td>\n",
       "      <td>To be Tested</td>\n",
       "    </tr>\n",
       "    <tr>\n",
       "      <th>7</th>\n",
       "      <td>LNIND_1954_CAL_46</td>\n",
       "      <td>To be Tested</td>\n",
       "    </tr>\n",
       "    <tr>\n",
       "      <th>8</th>\n",
       "      <td>LNIND_1976_CAL_119</td>\n",
       "      <td>To be Tested</td>\n",
       "    </tr>\n",
       "    <tr>\n",
       "      <th>9</th>\n",
       "      <td>LNIND_1993_DEL_120</td>\n",
       "      <td>To be Tested</td>\n",
       "    </tr>\n",
       "    <tr>\n",
       "      <th>10</th>\n",
       "      <td>LNIND_1988_CAL_256</td>\n",
       "      <td>To be Tested</td>\n",
       "    </tr>\n",
       "    <tr>\n",
       "      <th>11</th>\n",
       "      <td>LNIND_1954_CAL_126</td>\n",
       "      <td>To be Tested</td>\n",
       "    </tr>\n",
       "    <tr>\n",
       "      <th>12</th>\n",
       "      <td>LNIND_1956_CAL_62</td>\n",
       "      <td>To be Tested</td>\n",
       "    </tr>\n",
       "    <tr>\n",
       "      <th>13</th>\n",
       "      <td>LNIND_1993_DEL_188</td>\n",
       "      <td>To be Tested</td>\n",
       "    </tr>\n",
       "    <tr>\n",
       "      <th>14</th>\n",
       "      <td>LNIND_1952_CAL_161</td>\n",
       "      <td>To be Tested</td>\n",
       "    </tr>\n",
       "    <tr>\n",
       "      <th>15</th>\n",
       "      <td>LNIND_1993_DEL_144</td>\n",
       "      <td>To be Tested</td>\n",
       "    </tr>\n",
       "    <tr>\n",
       "      <th>16</th>\n",
       "      <td>LNIND_1988_CAL_118</td>\n",
       "      <td>To be Tested</td>\n",
       "    </tr>\n",
       "    <tr>\n",
       "      <th>17</th>\n",
       "      <td>LNIND_1993_DEL_160</td>\n",
       "      <td>To be Tested</td>\n",
       "    </tr>\n",
       "    <tr>\n",
       "      <th>18</th>\n",
       "      <td>LNIND_1993_DEL_172</td>\n",
       "      <td>To be Tested</td>\n",
       "    </tr>\n",
       "    <tr>\n",
       "      <th>19</th>\n",
       "      <td>LNIND_1980_CAL_144</td>\n",
       "      <td>To be Tested</td>\n",
       "    </tr>\n",
       "    <tr>\n",
       "      <th>20</th>\n",
       "      <td>LNIND_1980_CAL_225</td>\n",
       "      <td>To be Tested</td>\n",
       "    </tr>\n",
       "    <tr>\n",
       "      <th>21</th>\n",
       "      <td>LNIND_1980_CAL_303</td>\n",
       "      <td>To be Tested</td>\n",
       "    </tr>\n",
       "    <tr>\n",
       "      <th>22</th>\n",
       "      <td>LNIND_1980_CAL_281</td>\n",
       "      <td>To be Tested</td>\n",
       "    </tr>\n",
       "    <tr>\n",
       "      <th>23</th>\n",
       "      <td>LNIND_1980_CAL_49</td>\n",
       "      <td>To be Tested</td>\n",
       "    </tr>\n",
       "    <tr>\n",
       "      <th>24</th>\n",
       "      <td>LNIND_1957_CAL_45</td>\n",
       "      <td>To be Tested</td>\n",
       "    </tr>\n",
       "    <tr>\n",
       "      <th>25</th>\n",
       "      <td>LNIND_1957_CAL_128</td>\n",
       "      <td>To be Tested</td>\n",
       "    </tr>\n",
       "    <tr>\n",
       "      <th>26</th>\n",
       "      <td>LNIND_1976_CAL_63</td>\n",
       "      <td>To be Tested</td>\n",
       "    </tr>\n",
       "    <tr>\n",
       "      <th>27</th>\n",
       "      <td>LNIND_1976_CAL_260</td>\n",
       "      <td>To be Tested</td>\n",
       "    </tr>\n",
       "    <tr>\n",
       "      <th>28</th>\n",
       "      <td>LNIND_1952_CAL_105</td>\n",
       "      <td>To be Tested</td>\n",
       "    </tr>\n",
       "    <tr>\n",
       "      <th>29</th>\n",
       "      <td>LNIND_1988_CAL_44</td>\n",
       "      <td>To be Tested</td>\n",
       "    </tr>\n",
       "    <tr>\n",
       "      <th>...</th>\n",
       "      <td>...</td>\n",
       "      <td>...</td>\n",
       "    </tr>\n",
       "    <tr>\n",
       "      <th>969</th>\n",
       "      <td>LNIND_1976_CAL_194</td>\n",
       "      <td>Excise</td>\n",
       "    </tr>\n",
       "    <tr>\n",
       "      <th>970</th>\n",
       "      <td>LNIND_1954_CAL_182</td>\n",
       "      <td>Succession Laws</td>\n",
       "    </tr>\n",
       "    <tr>\n",
       "      <th>971</th>\n",
       "      <td>LNIND_1976_CAL_108</td>\n",
       "      <td>Income Tax</td>\n",
       "    </tr>\n",
       "    <tr>\n",
       "      <th>972</th>\n",
       "      <td>LNIND_1988_CAL_77</td>\n",
       "      <td>Service Law</td>\n",
       "    </tr>\n",
       "    <tr>\n",
       "      <th>973</th>\n",
       "      <td>LNIND_1988_CAL_74</td>\n",
       "      <td>Property Laws</td>\n",
       "    </tr>\n",
       "    <tr>\n",
       "      <th>974</th>\n",
       "      <td>LNIND_1976_CAL_200</td>\n",
       "      <td>Civil Procedure</td>\n",
       "    </tr>\n",
       "    <tr>\n",
       "      <th>975</th>\n",
       "      <td>LNIND_1988_CAL_34</td>\n",
       "      <td>Criminal Procedure</td>\n",
       "    </tr>\n",
       "    <tr>\n",
       "      <th>976</th>\n",
       "      <td>LNIND_1952_CAL_72</td>\n",
       "      <td>Civil Procedure</td>\n",
       "    </tr>\n",
       "    <tr>\n",
       "      <th>977</th>\n",
       "      <td>LNIND_1976_CAL_176</td>\n",
       "      <td>Local Government</td>\n",
       "    </tr>\n",
       "    <tr>\n",
       "      <th>978</th>\n",
       "      <td>LNIND_1976_CAL_271</td>\n",
       "      <td>Tenancy Laws</td>\n",
       "    </tr>\n",
       "    <tr>\n",
       "      <th>979</th>\n",
       "      <td>LNIND_1957_CAL_118</td>\n",
       "      <td>Evidence</td>\n",
       "    </tr>\n",
       "    <tr>\n",
       "      <th>980</th>\n",
       "      <td>LNIND_1976_CAL_62</td>\n",
       "      <td>Income Tax</td>\n",
       "    </tr>\n",
       "    <tr>\n",
       "      <th>981</th>\n",
       "      <td>LNIND_1951_CAL_193</td>\n",
       "      <td>Tenancy Laws</td>\n",
       "    </tr>\n",
       "    <tr>\n",
       "      <th>982</th>\n",
       "      <td>LNIND_1952_CAL_121</td>\n",
       "      <td>Tenancy Laws</td>\n",
       "    </tr>\n",
       "    <tr>\n",
       "      <th>983</th>\n",
       "      <td>LNIND_1952_CAL_55</td>\n",
       "      <td>Civil Procedure</td>\n",
       "    </tr>\n",
       "    <tr>\n",
       "      <th>984</th>\n",
       "      <td>LNIND_1953_CAL_51</td>\n",
       "      <td>Property Laws</td>\n",
       "    </tr>\n",
       "    <tr>\n",
       "      <th>985</th>\n",
       "      <td>LNIND_1976_CAL_9</td>\n",
       "      <td>Income Tax</td>\n",
       "    </tr>\n",
       "    <tr>\n",
       "      <th>986</th>\n",
       "      <td>LNIND_1954_CAL_75</td>\n",
       "      <td>Limitation</td>\n",
       "    </tr>\n",
       "    <tr>\n",
       "      <th>987</th>\n",
       "      <td>LNIND_1979_CAL_214</td>\n",
       "      <td>Company Law</td>\n",
       "    </tr>\n",
       "    <tr>\n",
       "      <th>988</th>\n",
       "      <td>LNIND_1953_CAL_174</td>\n",
       "      <td>Property Laws</td>\n",
       "    </tr>\n",
       "    <tr>\n",
       "      <th>989</th>\n",
       "      <td>LNIND_1988_CAL_126</td>\n",
       "      <td>Employment And Labour Law</td>\n",
       "    </tr>\n",
       "    <tr>\n",
       "      <th>990</th>\n",
       "      <td>LNIND_1988_CAL_257</td>\n",
       "      <td>Service Law</td>\n",
       "    </tr>\n",
       "    <tr>\n",
       "      <th>991</th>\n",
       "      <td>LNIND_1955_CAL_156</td>\n",
       "      <td>Customs</td>\n",
       "    </tr>\n",
       "    <tr>\n",
       "      <th>992</th>\n",
       "      <td>LNIND_1988_CAL_116</td>\n",
       "      <td>Property Laws</td>\n",
       "    </tr>\n",
       "    <tr>\n",
       "      <th>993</th>\n",
       "      <td>LNIND_1980_CAL_163</td>\n",
       "      <td>Property Laws</td>\n",
       "    </tr>\n",
       "    <tr>\n",
       "      <th>994</th>\n",
       "      <td>LNIND_1993_DEL_112</td>\n",
       "      <td>Criminal Laws</td>\n",
       "    </tr>\n",
       "    <tr>\n",
       "      <th>995</th>\n",
       "      <td>LNIND_1988_CAL_83</td>\n",
       "      <td>Service Law</td>\n",
       "    </tr>\n",
       "    <tr>\n",
       "      <th>996</th>\n",
       "      <td>LNIND_1993_DEL_16</td>\n",
       "      <td>Criminal Laws</td>\n",
       "    </tr>\n",
       "    <tr>\n",
       "      <th>997</th>\n",
       "      <td>LNIND_1957_CAL_46</td>\n",
       "      <td>Succession Laws</td>\n",
       "    </tr>\n",
       "    <tr>\n",
       "      <th>998</th>\n",
       "      <td>LNIND_1954_CAL_141</td>\n",
       "      <td>Government Contracts</td>\n",
       "    </tr>\n",
       "  </tbody>\n",
       "</table>\n",
       "<p>999 rows × 2 columns</p>\n",
       "</div>"
      ],
      "text/plain": [
       "             Judgements                Area.of.Law\n",
       "0    LNIND_1988_CAL_114               To be Tested\n",
       "1    LNIND_1956_CAL_163               To be Tested\n",
       "2    LNIND_1976_CAL_277               To be Tested\n",
       "3     LNIND_1980_CAL_52               To be Tested\n",
       "4    LNIND_1955_CAL_124               To be Tested\n",
       "5      LNIND_1954_CAL_3               To be Tested\n",
       "6     LNIND_1951_CAL_60               To be Tested\n",
       "7     LNIND_1954_CAL_46               To be Tested\n",
       "8    LNIND_1976_CAL_119               To be Tested\n",
       "9    LNIND_1993_DEL_120               To be Tested\n",
       "10   LNIND_1988_CAL_256               To be Tested\n",
       "11   LNIND_1954_CAL_126               To be Tested\n",
       "12    LNIND_1956_CAL_62               To be Tested\n",
       "13   LNIND_1993_DEL_188               To be Tested\n",
       "14   LNIND_1952_CAL_161               To be Tested\n",
       "15   LNIND_1993_DEL_144               To be Tested\n",
       "16   LNIND_1988_CAL_118               To be Tested\n",
       "17   LNIND_1993_DEL_160               To be Tested\n",
       "18   LNIND_1993_DEL_172               To be Tested\n",
       "19   LNIND_1980_CAL_144               To be Tested\n",
       "20   LNIND_1980_CAL_225               To be Tested\n",
       "21   LNIND_1980_CAL_303               To be Tested\n",
       "22   LNIND_1980_CAL_281               To be Tested\n",
       "23    LNIND_1980_CAL_49               To be Tested\n",
       "24    LNIND_1957_CAL_45               To be Tested\n",
       "25   LNIND_1957_CAL_128               To be Tested\n",
       "26    LNIND_1976_CAL_63               To be Tested\n",
       "27   LNIND_1976_CAL_260               To be Tested\n",
       "28   LNIND_1952_CAL_105               To be Tested\n",
       "29    LNIND_1988_CAL_44               To be Tested\n",
       "..                  ...                        ...\n",
       "969  LNIND_1976_CAL_194                     Excise\n",
       "970  LNIND_1954_CAL_182            Succession Laws\n",
       "971  LNIND_1976_CAL_108                 Income Tax\n",
       "972   LNIND_1988_CAL_77                Service Law\n",
       "973   LNIND_1988_CAL_74              Property Laws\n",
       "974  LNIND_1976_CAL_200            Civil Procedure\n",
       "975   LNIND_1988_CAL_34         Criminal Procedure\n",
       "976   LNIND_1952_CAL_72            Civil Procedure\n",
       "977  LNIND_1976_CAL_176           Local Government\n",
       "978  LNIND_1976_CAL_271               Tenancy Laws\n",
       "979  LNIND_1957_CAL_118                   Evidence\n",
       "980   LNIND_1976_CAL_62                 Income Tax\n",
       "981  LNIND_1951_CAL_193               Tenancy Laws\n",
       "982  LNIND_1952_CAL_121               Tenancy Laws\n",
       "983   LNIND_1952_CAL_55            Civil Procedure\n",
       "984   LNIND_1953_CAL_51              Property Laws\n",
       "985    LNIND_1976_CAL_9                 Income Tax\n",
       "986   LNIND_1954_CAL_75                 Limitation\n",
       "987  LNIND_1979_CAL_214                Company Law\n",
       "988  LNIND_1953_CAL_174              Property Laws\n",
       "989  LNIND_1988_CAL_126  Employment And Labour Law\n",
       "990  LNIND_1988_CAL_257                Service Law\n",
       "991  LNIND_1955_CAL_156                    Customs\n",
       "992  LNIND_1988_CAL_116              Property Laws\n",
       "993  LNIND_1980_CAL_163              Property Laws\n",
       "994  LNIND_1993_DEL_112              Criminal Laws\n",
       "995   LNIND_1988_CAL_83                Service Law\n",
       "996   LNIND_1993_DEL_16              Criminal Laws\n",
       "997   LNIND_1957_CAL_46            Succession Laws\n",
       "998  LNIND_1954_CAL_141       Government Contracts\n",
       "\n",
       "[999 rows x 2 columns]"
      ]
     },
     "execution_count": 2,
     "metadata": {},
     "output_type": "execute_result"
    }
   ],
   "source": [
    "# have a look on the labels' file\n",
    "mapping = pd.read_csv('data/Interview_Mapping.csv')\n",
    "mapping"
   ]
  },
  {
   "cell_type": "code",
   "execution_count": 3,
   "metadata": {},
   "outputs": [
    {
     "name": "stdout",
     "output_type": "stream",
     "text": [
      "41\n"
     ]
    }
   ],
   "source": [
    "# create labels\n",
    "unlabeled = []\n",
    "labeled = []\n",
    "labels = []\n",
    "\n",
    "for index,row in mapping.iterrows():\n",
    "    if row['Area.of.Law'] == 'To be Tested':\n",
    "        unlabeled.append(row['Judgements'])\n",
    "    else: \n",
    "        labeled.append(row['Judgements'])\n",
    "        labels.append(row['Area.of.Law'])\n",
    "        \n",
    "# how much unique area of law        \n",
    "print(len(set(labels)))"
   ]
  },
  {
   "cell_type": "code",
   "execution_count": 4,
   "metadata": {},
   "outputs": [],
   "source": [
    "# load files\n",
    "import os\n",
    "\n",
    "unlabeled_text=[]\n",
    "labeled_text=[]\n",
    "\n",
    "for name in unlabeled:\n",
    "    path = os.path.join('data/',name+'.txt')\n",
    "    with open(path,'r',errors = 'ignore') as f:\n",
    "        unlabeled_text.append(f.read())\n",
    "for name in labeled:\n",
    "    path = os.path.join('data/',name+'.txt')\n",
    "    with open(path,'r',errors = 'ignore') as f:\n",
    "        labeled_text.append(f.read())\n"
   ]
  },
  {
   "cell_type": "raw",
   "metadata": {},
   "source": [
    "labeled_text[] each of the element in this array is a passage\n",
    "and what i need to do is to clean each of the passage first \n",
    "and combine the cleaned passages together into a new array "
   ]
  },
  {
   "cell_type": "code",
   "execution_count": 71,
   "metadata": {
    "scrolled": false
   },
   "outputs": [],
   "source": [
    "from nltk.corpus import stopwords\n",
    "from nltk.stem.wordnet import WordNetLemmatizer\n",
    "\n",
    "stop = stopwords.words('english')\n",
    "punct = string.punctuation\n",
    "\n",
    "labeled_cleaned=[]\n",
    "unlabeled_cleaned = []\n",
    "\n",
    "for passage in labeled_text:\n",
    "    # remove links \n",
    "    passage= re.sub(r'http(s)?:\\/\\/\\S*', \"\", str(passage))\n",
    "    # remove \\n\n",
    "    passage = ''.join([elem.replace('\\n',' ') for elem in passage])\n",
    "    # normalization and remove stopwords\n",
    "    passage = ' '.join([elem for elem in passage.lower().split() if elem not in stop])\n",
    "    #remove punctuation \n",
    "    passage = ''.join([elem.replace('[^\\w\\s]',' ') for elem in passage if elem not in punct])\n",
    "    #remove digits\n",
    "    passage = ''.join([elem for elem in passage if not elem.isdigit()])\n",
    "    #lemmatization\n",
    "    lemmatizer = WordNetLemmatizer()\n",
    "    passage = ' '.join(lemmatizer.lemmatize(elem) for elem in passage.split())\n",
    "    \n",
    "    labeled_cleaned.append(passage)\n",
    "\n",
    "    \n",
    "for passage in unlabeled_text:\n",
    "        \n",
    "    # remove links \n",
    "    passage= re.sub(r'http(s)?:\\/\\/\\S*', \"\", str(passage))\n",
    "    # remove \\n\n",
    "    passage = ''.join([elem.replace('\\n',' ') for elem in passage])\n",
    "    # normalization and remove stopwords\n",
    "    passage = ' '.join([elem for elem in passage.lower().split() if elem not in stop])\n",
    "    #remove punctuation \n",
    "    passage = ''.join([elem.replace('[^\\w\\s]',' ') for elem in passage if elem not in punct])\n",
    "    #remove digits\n",
    "    passage = ''.join([elem for elem in passage if not elem.isdigit()])\n",
    "    #lemmatization\n",
    "    lemmatizer = WordNetLemmatizer()\n",
    "    passage = ' '.join(lemmatizer.lemmatize(elem) for elem in passage.split())\n",
    "\n",
    "    unlabeled_cleaned.append(passage)\n",
    "    # it has to be a string so it could be processed later \n"
   ]
  },
  {
   "cell_type": "code",
   "execution_count": 129,
   "metadata": {
    "scrolled": true
   },
   "outputs": [],
   "source": [
    "# split the labeled data into training and validation set \n",
    "# use 7-3 \n",
    "from sklearn.model_selection import train_test_split\n",
    "from sklearn.feature_extraction.text import TfidfVectorizer\n",
    "from sklearn.preprocessing import LabelEncoder\n",
    "\n",
    "train_text,val_text,train_labels,val_labels =train_test_split(labeled_cleaned,labels,test_size = 0.25,random_state = 0)\n",
    "\n",
    "# do tfidf to get X_train and X_val\n",
    "vectorizer = TfidfVectorizer()\n",
    "X_train = vectorizer.fit_transform(train_text)\n",
    "X_val = vectorizer.transform(val_text)\n",
    "\n",
    "# do tfidf to get X_test (unlabeled text that needed to be predicted)\n",
    "X_test = vectorizer.transform(unlabeled_cleaned) #transform on test set, not fit_transform\n",
    "\n",
    "# do label encoding to get y_train and y_val\n",
    "encoder = LabelEncoder()\n",
    "encoder.fit(labels)\n",
    "y_train = encoder.transform(train_labels)\n",
    "y_val = encoder.transform(val_labels)\n",
    "all_labels = encoder.classes_"
   ]
  },
  {
   "cell_type": "code",
   "execution_count": 78,
   "metadata": {},
   "outputs": [
    {
     "data": {
      "text/plain": [
       "<225x1 sparse matrix of type '<class 'numpy.float64'>'\n",
       "\twith 5 stored elements in Compressed Sparse Row format>"
      ]
     },
     "execution_count": 78,
     "metadata": {},
     "output_type": "execute_result"
    }
   ],
   "source": []
  },
  {
   "cell_type": "code",
   "execution_count": 48,
   "metadata": {},
   "outputs": [],
   "source": [
    "from sklearn.decomposition import PCA, TruncatedSVD\n",
    "import matplotlib\n",
    "import matplotlib.patches as mpatches\n",
    "import matplotlib.pyplot as plt\n",
    "\n",
    "\n",
    "color_mapper = {label:idx for idx,label in enumerate(set(y_val))}\n",
    "color_column = [color_mapper[label] for label in y_val]\n",
    "colors = ['orange','blue','red']\n",
    "savepath=\"PCA_demo.csv\"\n",
    "plt.scatter(X_val[:,0], X_val[:,1], s=8, alpha=.8, c=y_val.reshape(225,1), cmap=matplotlib.colors.ListedColormap(colors))\n",
    "fig = plt.figure(figsize=(16, 16))\n",
    "plt.show()"
   ]
  },
  {
   "cell_type": "code",
   "execution_count": null,
   "metadata": {},
   "outputs": [],
   "source": [
    "# graph looks kind of seperated"
   ]
  },
  {
   "cell_type": "code",
   "execution_count": 87,
   "metadata": {},
   "outputs": [],
   "source": [
    "from sklearn.metrics import f1_score,accuracy_score,precision_score,recall_score,classification_report\n",
    "def get_metrics(y_val, y_predicted,yHat_train,y_train):  \n",
    "    # true positives / (true positives+false positives)\n",
    "    precision = precision_score(y_val, y_predicted, pos_label=None,\n",
    "                                    average='weighted')             \n",
    "    # true positives / (true positives + false negatives)\n",
    "    recall = recall_score(y_val, y_predicted, pos_label=None,\n",
    "                              average='weighted')\n",
    "    \n",
    "    # harmonic mean of precision and recall\n",
    "    f1 = f1_score(y_val, y_predicted, pos_label=None, average='weighted')\n",
    "    \n",
    "    # true positives + true negatives/ total\n",
    "    accuracyTest = accuracy_score(y_val, y_predicted)\n",
    "    accuracyTrain = accuracy_score(y_train,yHat_train)\n",
    "    return accuracyTest,accuracyTrain, precision, recall, f1\n"
   ]
  },
  {
   "cell_type": "code",
   "execution_count": 90,
   "metadata": {},
   "outputs": [
    {
     "name": "stdout",
     "output_type": "stream",
     "text": [
      "[ 6  6  6  6  6  6  6  6 23  6 23  6 23 39  6  6  6 39  6  6 23 23  6  6\n",
      " 39  6 23  6 39 23  6 39  6 23  6 14  6  6  6  6  6  6  6 23  6  6  6  6\n",
      " 39  6  6 39 39  6  6  6  6  6  6  6 23  6  6  6  6  6  6  6  6  6  6 23\n",
      "  6  6  6  6 23  6  6  6  6 23  6 39  6  6  6  6  6 23 39 23 23  6  6  6\n",
      " 23  6  6  6]\n",
      "Test accuracy = 0.329, Train accuracy = 0.359,precision = 0.250, recall = 0.329, f1 = 0.214\n",
      "Train accuracy :  0.3590504451038576\n",
      "Test accuracy :   0.3288888888888889\n"
     ]
    },
    {
     "name": "stderr",
     "output_type": "stream",
     "text": [
      "C:\\ProgramData\\Anaconda3\\lib\\site-packages\\sklearn\\metrics\\classification.py:1135: UndefinedMetricWarning: Precision is ill-defined and being set to 0.0 in labels with no predicted samples.\n",
      "  'precision', 'predicted', average, warn_for)\n",
      "C:\\ProgramData\\Anaconda3\\lib\\site-packages\\sklearn\\metrics\\classification.py:1135: UndefinedMetricWarning: F-score is ill-defined and being set to 0.0 in labels with no predicted samples.\n",
      "  'precision', 'predicted', average, warn_for)\n"
     ]
    }
   ],
   "source": [
    "# use Naive Bayes\n",
    "from sklearn import naive_bayes\n",
    "\n",
    "\n",
    "modelNB = naive_bayes.MultinomialNB()\n",
    "modelNB.fit(X_train,y_train)\n",
    "predicted_labels = modelNB.predict(X_val)\n",
    "result = modelNB.predict(X_test)\n",
    "print(result)\n",
    "\n",
    "yHat_train = modelNB.predict(X_train)\n",
    "\n",
    "accuracyTest,accuracyTrain, precision, recall, f1 = get_metrics(y_val, predicted_labels,yHat_train,y_train)\n",
    "print(\"Test accuracy = %.3f, Train accuracy = %.3f,precision = %.3f, recall = %.3f, f1 = %.3f\" % (accuracyTest,accuracyTrain, precision, recall, f1))\n"
   ]
  },
  {
   "cell_type": "code",
   "execution_count": 91,
   "metadata": {},
   "outputs": [
    {
     "name": "stdout",
     "output_type": "stream",
     "text": [
      "[ 6  6  6  6  6  6  6  6 23  6  6  6 23  6  6  6  6  6  6  6 23 23  6  6\n",
      "  6  6 23  6  6  6  6  6  6 23  6  6  6  6  6  6  6  6  6  6  6  6  6  6\n",
      "  6  6  6  6 39  6  6  6  6  6  6  6  6  6  6  6  6  6  6  6  6  6  6  6\n",
      "  6  6  6  6 23  6  6  6  6  6  6  6  6  6  6  6  6 23  6 23 23  6  6  6\n",
      " 23  6  6  6]\n",
      "Test accuracy = 0.289, Train accuracy = 0.269,precision = 0.187, recall = 0.289, f1 = 0.182\n"
     ]
    },
    {
     "name": "stderr",
     "output_type": "stream",
     "text": [
      "C:\\ProgramData\\Anaconda3\\lib\\site-packages\\sklearn\\metrics\\classification.py:1135: UndefinedMetricWarning: Precision is ill-defined and being set to 0.0 in labels with no predicted samples.\n",
      "  'precision', 'predicted', average, warn_for)\n",
      "C:\\ProgramData\\Anaconda3\\lib\\site-packages\\sklearn\\metrics\\classification.py:1135: UndefinedMetricWarning: F-score is ill-defined and being set to 0.0 in labels with no predicted samples.\n",
      "  'precision', 'predicted', average, warn_for)\n"
     ]
    }
   ],
   "source": [
    "# use SVM\n",
    "from sklearn import svm\n",
    "\n",
    "modelSVM = svm.SVC(kernel='linear',C=0.1)\n",
    "modelSVM.fit(X_train,y_train)\n",
    "predicted_labels = modelSVM.predict(X_val)\n",
    "result = modelSVM.predict(X_test)\n",
    "print(result)\n",
    "\n",
    "yHat_train = modelSVM.predict(X_train)\n",
    "accuracyTest,accuracyTrain, precision, recall, f1 = get_metrics(y_val, predicted_labels,yHat_train,y_train)\n",
    "print(\"Test accuracy = %.3f, Train accuracy = %.3f,precision = %.3f, recall = %.3f, f1 = %.3f\" % (accuracyTest,accuracyTrain, precision, recall, f1))\n"
   ]
  },
  {
   "cell_type": "code",
   "execution_count": 46,
   "metadata": {},
   "outputs": [
    {
     "name": "stdout",
     "output_type": "stream",
     "text": [
      "Test accuracy :   0.24444444444444444\n"
     ]
    }
   ],
   "source": [
    "clf = LogisticRegression(C=30.0, class_weight='balanced', solver='newton-cg', \n",
    "                         multi_class='multinomial', n_jobs=-1, random_state=40)\n",
    "clf.fit(X_train, y_train)\n",
    "\n",
    "yHat_val = clf.predict(X_val)\n",
    "print(\"Test accuracy :  \", accuracy_score(y_val, yHat_val))"
   ]
  },
  {
   "cell_type": "code",
   "execution_count": 93,
   "metadata": {},
   "outputs": [
    {
     "name": "stdout",
     "output_type": "stream",
     "text": [
      "[34  6  6 14 14  6  6 28 23  6 23  6 23 39  6 14  6 39 37  6 23 23 28  6\n",
      " 39  6 23  6 39 36  6 39  6 23 34 14  1  6 14 15  6  6 13 23  6 34 14  6\n",
      " 39 14 13 39 39  6  1 28  1 23  6  6 23 14 34 38 34  6  6  6  6 14  6 36\n",
      "  6  6 37  6 23 14  6 14  6  7  6 39  6 39 34 37  6 23 39 23 23 14  6  6\n",
      " 23  6 13  6]\n",
      "Test accuracy = 0.569, Train accuracy = 0.739,precision = 0.485, recall = 0.569, f1 = 0.497\n"
     ]
    },
    {
     "name": "stderr",
     "output_type": "stream",
     "text": [
      "C:\\ProgramData\\Anaconda3\\lib\\site-packages\\sklearn\\metrics\\classification.py:1135: UndefinedMetricWarning: Precision is ill-defined and being set to 0.0 in labels with no predicted samples.\n",
      "  'precision', 'predicted', average, warn_for)\n",
      "C:\\ProgramData\\Anaconda3\\lib\\site-packages\\sklearn\\metrics\\classification.py:1135: UndefinedMetricWarning: F-score is ill-defined and being set to 0.0 in labels with no predicted samples.\n",
      "  'precision', 'predicted', average, warn_for)\n"
     ]
    }
   ],
   "source": [
    "# use Linear Regression\n",
    "from sklearn.linear_model import LogisticRegression\n",
    "\n",
    "modelLR = LogisticRegression()\n",
    "modelLR.fit(X_train,y_train)\n",
    "predicted_labels = modelLR.predict(X_val)\n",
    "result = modelLR.predict(X_test)\n",
    "print(result)\n",
    "yHat_train = modelLR.predict(X_train)\n",
    "\n",
    "accuracyTest,accuracyTrain, precision, recall, f1 = get_metrics(y_val, predicted_labels,yHat_train,y_train)\n",
    "print(\"Test accuracy = %.3f, Train accuracy = %.3f,precision = %.3f, recall = %.3f, f1 = %.3f\" % (accuracyTest,accuracyTrain, precision, recall, f1))\n"
   ]
  },
  {
   "cell_type": "code",
   "execution_count": 174,
   "metadata": {},
   "outputs": [
    {
     "name": "stdout",
     "output_type": "stream",
     "text": [
      "                   Judgements\\tArea of Law\n",
      "0        LNIND_1988_CAL_114\\tProperty Laws\n",
      "1      LNIND_1956_CAL_163\\tCivil Procedure\n",
      "2      LNIND_1976_CAL_277\\tCivil Procedure\n",
      "3    LNIND_1980_CAL_52\\tCriminal Procedure\n",
      "4   LNIND_1955_CAL_124\\tCriminal Procedure\n",
      "..                                     ...\n",
      "95     LNIND_1980_CAL_279\\tCivil Procedure\n",
      "96          LNIND_1980_CAL_229\\tIncome Tax\n",
      "97     LNIND_1988_CAL_232\\tCivil Procedure\n",
      "98       LNIND_1957_CAL_142\\tCriminal Laws\n",
      "99     LNIND_1988_CAL_107\\tCivil Procedure\n",
      "\n",
      "[100 rows x 1 columns]\n"
     ]
    }
   ],
   "source": [
    "# write result in csv\n",
    "with open('predictions.csv','w') as f:\n",
    "    f.write('Judgements' + '\\t' + 'Area of Law' + '\\n')\n",
    "    predictionList = all_labels[result]\n",
    "    for i in range(0, len(result)):\n",
    "        f.write(unlabeled[i] + '\\t' + predictionList[i] + '\\n')\n",
    "        \n",
    "sss = pd.read_csv('predictions.csv')\n",
    "print(sss)"
   ]
  },
  {
   "cell_type": "code",
   "execution_count": 103,
   "metadata": {},
   "outputs": [],
   "source": [
    "def get_most_important_features(Vectorizer, model, n=5):\n",
    "    index_to_word = {v:k for k,v in Vectorizer.vocabulary_.items()}\n",
    "    \n",
    "    # loop for each class\n",
    "    classes ={}\n",
    "    for class_index in range(model.coef_.shape[0]):\n",
    "        word_importances = [(el, index_to_word[i]) for i,el in enumerate(model.coef_[class_index])]\n",
    "        sorted_coeff = sorted(word_importances, key = lambda x : x[0], reverse=True)\n",
    "        tops = sorted(sorted_coeff[:n], key = lambda x : x[0])\n",
    "        bottom = sorted_coeff[-n:]\n",
    "        classes[class_index] = {\n",
    "            'tops':tops,\n",
    "            'bottom':bottom\n",
    "        }\n",
    "    return classes\n",
    "\n"
   ]
  },
  {
   "cell_type": "code",
   "execution_count": 104,
   "metadata": {},
   "outputs": [],
   "source": [
    "\n",
    "importance_tfidf = get_most_important_features(vectorizer,modelLR,10)\n"
   ]
  },
  {
   "cell_type": "code",
   "execution_count": 106,
   "metadata": {},
   "outputs": [
    {
     "data": {
      "image/png": "[encoded data removed]",
      "text/plain": [
       "<Figure size 720x720 with 2 Axes>"
      ]
     },
     "metadata": {
      "needs_background": "light"
     },
     "output_type": "display_data"
    }
   ],
   "source": [
    "def plot_important_words(top_scores, top_words, bottom_scores, bottom_words, name):\n",
    "    y_pos = np.arange(len(top_words))\n",
    "    top_pairs = [(a,b) for a,b in zip(top_words, top_scores)]\n",
    "    top_pairs = sorted(top_pairs, key=lambda x: x[1])\n",
    "    \n",
    "    bottom_pairs = [(a,b) for a,b in zip(bottom_words, bottom_scores)]\n",
    "    bottom_pairs = sorted(bottom_pairs, key=lambda x: x[1], reverse=True)\n",
    "    \n",
    "    top_words = [a[0] for a in top_pairs]\n",
    "    top_scores = [a[1] for a in top_pairs]\n",
    "    \n",
    "    bottom_words = [a[0] for a in bottom_pairs]\n",
    "    bottom_scores = [a[1] for a in bottom_pairs]\n",
    "    \n",
    "    fig = plt.figure(figsize=(10, 10))  \n",
    "\n",
    "    plt.subplot(121)\n",
    "    plt.barh(y_pos,bottom_scores, align='center', alpha=0.5)\n",
    "    plt.title('Irrelevant', fontsize=20)\n",
    "    plt.yticks(y_pos, bottom_words, fontsize=14)\n",
    "    plt.suptitle('Key words', fontsize=16)\n",
    "    plt.xlabel('Importance', fontsize=20)\n",
    "    \n",
    "    plt.subplot(122)\n",
    "    plt.barh(y_pos,top_scores, align='center', alpha=0.5)\n",
    "    plt.title('Disaster', fontsize=20)\n",
    "    plt.yticks(y_pos, top_words, fontsize=14)\n",
    "    plt.suptitle(name, fontsize=16)\n",
    "    plt.xlabel('Importance', fontsize=20)\n",
    "    \n",
    "    plt.subplots_adjust(wspace=0.8)\n",
    "    plt.show()\n",
    "\n",
    "top_scores = [a[0] for a in importance_tfidf[1]['tops']]\n",
    "top_words = [a[1] for a in importance_tfidf[1]['tops']]\n",
    "bottom_scores = [a[0] for a in importance_tfidf[1]['bottom']]\n",
    "bottom_words = [a[1] for a in importance_tfidf[1]['bottom']]\n",
    "\n",
    "plot_important_words(top_scores, top_words, bottom_scores, bottom_words, \"Most important words for relevance\")"
   ]
  },
  {
   "cell_type": "code",
   "execution_count": 113,
   "metadata": {
    "scrolled": true
   },
   "outputs": [],
   "source": [
    "#try bag of word then tfidf\n",
    "\n",
    "from sklearn.model_selection import train_test_split\n",
    "from sklearn.feature_extraction.text import CountVectorizer, TfidfVectorizer\n",
    "\n",
    "def cv(data):\n",
    "    count_vectorizer = CountVectorizer()\n",
    "    emb = count_vectorizer.fit_transform(data)\n",
    "    return emb, count_vectorizer\n",
    "\n",
    "\n",
    "train_text,val_text,train_labels,val_labels = train_test_split(labeled_cleaned,labels,test_size = 0.25,random_state = 0)\n",
    "X_train_count, count_vectorizer = cv(train_text)\n",
    "X_val_count = count_vectorizer.transform(val_text)\n",
    "\n",
    "# do tfidf to get X_test (unlabeled text that needed to be predicted)\n",
    "X_test = count_vectorizer.transform(unlabeled_cleaned) #transform on test set, not fit_transform\n"
   ]
  },
  {
   "cell_type": "code",
   "execution_count": 123,
   "metadata": {},
   "outputs": [
    {
     "data": {
      "text/plain": [
       "(674, 30995)"
      ]
     },
     "execution_count": 123,
     "metadata": {},
     "output_type": "execute_result"
    }
   ],
   "source": [
    "#then do tfidf transformer to make training set and valid. set from occurences to freq.\n",
    "from sklearn.feature_extraction.text import TfidfTransformer\n",
    "\n",
    "tfidf_transformer = TfidfTransformer()\n",
    "X_train_tfidf = tfidf_transformer.fit_transform(X_train_count)\n",
    "X_val_tfidf = tfidf_transformer.transform(X_val_count)\n",
    "\n",
    "X_train_tfidf.shape\n"
   ]
  },
  {
   "cell_type": "code",
   "execution_count": 126,
   "metadata": {},
   "outputs": [
    {
     "name": "stdout",
     "output_type": "stream",
     "text": [
      "[34  6  6  8  6  6  6 28 23  6 23  6 23 39  6 14  6 39 37  6 23 23 37  6\n",
      " 39  6 23  8 39 36 36 39  6 23 34 14  1 11 14 15  6  6 13 36  6 34 14  6\n",
      " 39  6 13 39 39  6  1  6  1  6  6  6 34  6 34 38 34  6  6  8  6 14  6 36\n",
      "  6  6 37  6 23 14  8 14  6  7  6 39  6 39 34 37  6 23 39 23 23 14  6 16\n",
      " 23  6 14  6]\n",
      "Test accuracy = 0.569, Train accuracy = 0.739,precision = 0.485, recall = 0.569, f1 = 0.497\n"
     ]
    },
    {
     "name": "stderr",
     "output_type": "stream",
     "text": [
      "C:\\ProgramData\\Anaconda3\\lib\\site-packages\\sklearn\\metrics\\classification.py:1135: UndefinedMetricWarning: Precision is ill-defined and being set to 0.0 in labels with no predicted samples.\n",
      "  'precision', 'predicted', average, warn_for)\n",
      "C:\\ProgramData\\Anaconda3\\lib\\site-packages\\sklearn\\metrics\\classification.py:1135: UndefinedMetricWarning: F-score is ill-defined and being set to 0.0 in labels with no predicted samples.\n",
      "  'precision', 'predicted', average, warn_for)\n"
     ]
    }
   ],
   "source": [
    "modelLR = LogisticRegression()\n",
    "modelLR.fit(X_train_tfidf,y_train)\n",
    "predicted_labels = modelLR.predict(X_val_tfidf)\n",
    "result = modelLR.predict(X_test)\n",
    "print(result)\n",
    "yHat_train = modelLR.predict(X_train_tfidf)\n",
    "\n",
    "accuracyTest,accuracyTrain, precision, recall, f1 = get_metrics(y_val, predicted_labels,yHat_train,y_train)\n",
    "print(\"Test accuracy = %.3f, Train accuracy = %.3f,precision = %.3f, recall = %.3f, f1 = %.3f\" % (accuracyTest,accuracyTrain, precision, recall, f1))\n"
   ]
  },
  {
   "cell_type": "code",
   "execution_count": 134,
   "metadata": {},
   "outputs": [],
   "source": [
    "from sklearn.pipeline import Pipeline\n",
    "from sklearn.linear_model import SGDClassifier\n",
    "text_clf = Pipeline([('vect', CountVectorizer()),('tfidf',TfidfTransformer()),('clf', SGDClassifier(loss='hinge', penalty='l2',\n",
    "                           alpha=1e-3, random_state=42,\n",
    "                           max_iter=5, tol=None)),\n",
    " ])\n"
   ]
  },
  {
   "cell_type": "code",
   "execution_count": 138,
   "metadata": {},
   "outputs": [
    {
     "data": {
      "text/plain": [
       "'predicted_ed = text_clf.predict(X_test)\\nnp.mean(predicted_ed == y_val)            '"
      ]
     },
     "execution_count": 138,
     "metadata": {},
     "output_type": "execute_result"
    }
   ],
   "source": [
    "text_clf.fit(train_text, y_train)  \n",
    "\n"
   ]
  },
  {
   "cell_type": "code",
   "execution_count": 143,
   "metadata": {
    "scrolled": true
   },
   "outputs": [
    {
     "data": {
      "text/plain": [
       "0.6311111111111111"
      ]
     },
     "execution_count": 143,
     "metadata": {},
     "output_type": "execute_result"
    }
   ],
   "source": [
    "predicted_ed = text_clf.predict(val_text)\n",
    "np.mean(predicted_ed == y_val)            "
   ]
  },
  {
   "cell_type": "code",
   "execution_count": 145,
   "metadata": {},
   "outputs": [],
   "source": [
    "#try LR ppl\n",
    "text_clf_LR = Pipeline([('vect', CountVectorizer()),\n",
    "                     ('tfidf',TfidfTransformer()),\n",
    "                     ('clf', LogisticRegression(C=30.0, class_weight='balanced', solver='newton-cg', \n",
    "                         multi_class='multinomial', n_jobs=-1, random_state=40) ),\n",
    " ])"
   ]
  },
  {
   "cell_type": "code",
   "execution_count": 146,
   "metadata": {},
   "outputs": [
    {
     "data": {
      "text/plain": [
       "0.64"
      ]
     },
     "execution_count": 146,
     "metadata": {},
     "output_type": "execute_result"
    }
   ],
   "source": [
    "text_clf_LR.fit(train_text, y_train)  \n",
    "predicted_ed2 = text_clf_LR.predict(val_text)\n",
    "np.mean(predicted_ed2 == y_val)    \n"
   ]
  },
  {
   "cell_type": "code",
   "execution_count": null,
   "metadata": {},
   "outputs": [],
   "source": []
  }
 ],
 "metadata": {
  "kernelspec": {
   "display_name": "Python 3",
   "language": "python",
   "name": "python3"
  },
  "language_info": {
   "codemirror_mode": {
    "name": "ipython",
    "version": 3
   },
   "file_extension": ".py",
   "mimetype": "text/x-python",
   "name": "python",
   "nbconvert_exporter": "python",
   "pygments_lexer": "ipython3",
   "version": "3.7.0"
  }
 },
 "nbformat": 4,
 "nbformat_minor": 2
}
