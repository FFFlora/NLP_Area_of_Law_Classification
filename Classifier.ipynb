{
 "cells": [
  {
   "cell_type": "code",
   "execution_count": 1,
   "metadata": {},
   "outputs": [
    {
     "data": {
      "text/plain": [
       "'\\n1. predict the unlabeled data (Naive Bayes, SVM)\\n2. evaluate the accuracy,f1,ruc,etc?? (check with the doc later)\\n3. Topic Modeling\\n4. wordcloud(maybe,if applicable)\\n5. visualization(maybe, if applicable)\\n6. think about some other fun questions about this data set\\n\\n'"
      ]
     },
     "execution_count": 1,
     "metadata": {},
     "output_type": "execute_result"
    }
   ],
   "source": [
    "#TODO\n",
    "\n",
    "\"\"\"\n",
    "1. predict the unlabeled data (Naive Bayes, SVM)\n",
    "2. evaluate the accuracy,f1,ruc,etc?? (check with the doc later)\n",
    "3. Topic Modeling\n",
    "4. wordcloud(maybe,if applicable)\n",
    "5. visualization(maybe, if applicable)\n",
    "6. think about some other fun questions about this data set\n",
    "\"\"\""
   ]
  },
  {
   "cell_type": "code",
   "execution_count": 2,
   "metadata": {
    "scrolled": true
   },
   "outputs": [],
   "source": [
    "import pandas as pd\n",
    "import string \n",
    "import nltk\n",
    "import re \n",
    "#settings\n",
    "pd.options.display.max_rows=10"
   ]
  },
  {
   "cell_type": "code",
   "execution_count": 134,
   "metadata": {
    "scrolled": true
   },
   "outputs": [
    {
     "data": {
      "text/html": [
       "<div>\n",
       "<style scoped>\n",
       "    .dataframe tbody tr th:only-of-type {\n",
       "        vertical-align: middle;\n",
       "    }\n",
       "\n",
       "    .dataframe tbody tr th {\n",
       "        vertical-align: top;\n",
       "    }\n",
       "\n",
       "    .dataframe thead th {\n",
       "        text-align: right;\n",
       "    }\n",
       "</style>\n",
       "<table border=\"1\" class=\"dataframe\">\n",
       "  <thead>\n",
       "    <tr style=\"text-align: right;\">\n",
       "      <th></th>\n",
       "      <th>Judgements</th>\n",
       "      <th>Area.of.Law</th>\n",
       "    </tr>\n",
       "  </thead>\n",
       "  <tbody>\n",
       "    <tr>\n",
       "      <th>0</th>\n",
       "      <td>LNIND_1988_CAL_114</td>\n",
       "      <td>To be Tested</td>\n",
       "    </tr>\n",
       "    <tr>\n",
       "      <th>1</th>\n",
       "      <td>LNIND_1956_CAL_163</td>\n",
       "      <td>To be Tested</td>\n",
       "    </tr>\n",
       "    <tr>\n",
       "      <th>2</th>\n",
       "      <td>LNIND_1976_CAL_277</td>\n",
       "      <td>To be Tested</td>\n",
       "    </tr>\n",
       "    <tr>\n",
       "      <th>3</th>\n",
       "      <td>LNIND_1980_CAL_52</td>\n",
       "      <td>To be Tested</td>\n",
       "    </tr>\n",
       "    <tr>\n",
       "      <th>4</th>\n",
       "      <td>LNIND_1955_CAL_124</td>\n",
       "      <td>To be Tested</td>\n",
       "    </tr>\n",
       "  </tbody>\n",
       "</table>\n",
       "</div>"
      ],
      "text/plain": [
       "           Judgements   Area.of.Law\n",
       "0  LNIND_1988_CAL_114  To be Tested\n",
       "1  LNIND_1956_CAL_163  To be Tested\n",
       "2  LNIND_1976_CAL_277  To be Tested\n",
       "3   LNIND_1980_CAL_52  To be Tested\n",
       "4  LNIND_1955_CAL_124  To be Tested"
      ]
     },
     "execution_count": 134,
     "metadata": {},
     "output_type": "execute_result"
    }
   ],
   "source": [
    "mapping = pd.read_csv('data/Interview_Mapping.csv')\n",
    "mapping.head()"
   ]
  },
  {
   "cell_type": "code",
   "execution_count": 4,
   "metadata": {},
   "outputs": [
    {
     "data": {
      "text/plain": [
       "41"
      ]
     },
     "execution_count": 4,
     "metadata": {},
     "output_type": "execute_result"
    }
   ],
   "source": [
    "# create labels\n",
    "unlabeled = []\n",
    "labeled = []\n",
    "labels = []\n",
    "\n",
    "for index,row in mapping.iterrows():\n",
    "    if row['Area.of.Law'] == 'To be Tested':\n",
    "        unlabeled.append(row['Judgements'])\n",
    "    else: \n",
    "        labeled.append(row['Judgements'])\n",
    "        labels.append(row['Area.of.Law'])\n",
    "        \n",
    "# how much unique area of law        \n",
    "len(set(labels))"
   ]
  },
  {
   "cell_type": "code",
   "execution_count": 5,
   "metadata": {},
   "outputs": [],
   "source": [
    "# load files\n",
    "import os\n",
    "count=0\n",
    "unlabeled_text=[]\n",
    "labeled_text=[]\n",
    "\n",
    "for name in unlabeled:\n",
    "    path = os.path.join('data/',name+'.txt')\n",
    "    with open(path,'r',errors = 'ignore') as f:\n",
    "        unlabeled_text.append(f.read())\n",
    "for name in labeled:\n",
    "    path = os.path.join('data/',name+'.txt')\n",
    "    with open(path,'r',errors = 'ignore') as f:\n",
    "        labeled_text.append(f.read())\n"
   ]
  },
  {
   "cell_type": "raw",
   "metadata": {},
   "source": [
    "labeled_text[] each of the element in this array is a passage\n",
    "and what i need to do is to clean each of the passage first \n",
    "and combine the cleaned passages together into a new array \n"
   ]
  },
  {
   "cell_type": "code",
   "execution_count": 132,
   "metadata": {},
   "outputs": [],
   "source": [
    "from nltk.corpus import stopwords\n",
    "from nltk.stem.wordnet import WordNetLemmatizer\n",
    "\n",
    "stop = stopwords.words('english')\n",
    "punct = string.punctuation\n",
    "\n",
    "labeled_cleaned=[]\n",
    "unlabeled_cleaned = []\n",
    "\n",
    "for passage in labeled_text:\n",
    "        \n",
    "    # remove links \n",
    "    passage= re.sub(r'http(s)?:\\/\\/\\S*', \"\", str(passage))\n",
    "    passage = ''.join([elem if elem.isalnum() or elem.isspace() else \" \" for elem in passage ])\n",
    "    # remove \\n\n",
    "    passage = ''.join([elem.strip('\\n') for elem in passage])\n",
    "    # normalization and remove stopwords\n",
    "    passage = ' '.join([elem for elem in passage.lower().split() if elem not in stop])\n",
    "    #remove punctuation \n",
    "    passage = ''.join([elem.replace('[^\\w\\s]','') for elem in passage])\n",
    "    #remove digits\n",
    "    #passage = ''.join([elem for elem in passage if not elem.isdigit()])\n",
    "    \n",
    "    # ??? common word\n",
    "    #freq = pd.Series(passage.split()).value_counts()[:10]\n",
    "    \n",
    "    #lemmatization\n",
    "    lemmatizer = WordNetLemmatizer()\n",
    "    passage = ' '.join(lemmatizer.lemmatize(elem) for elem in passage.split())\n",
    "    labeled_cleaned.append(passage)\n",
    "\n",
    "    \n",
    "for passage in unlabeled_text:\n",
    "        \n",
    "    # remove links \n",
    "    passage= re.sub(r'http(s)?:\\/\\/\\S*', \"\", str(passage))\n",
    "    passage = ''.join([elem if elem.isalnum() or elem.isspace() else \" \" for elem in passage ])\n",
    "    # remove \\n\n",
    "    passage = ''.join([elem.strip('\\n') for elem in passage])\n",
    "    # normalization and remove stopwords\n",
    "    passage = ' '.join([elem for elem in passage.lower().split() if elem not in stop])\n",
    "    #remove punctuation \n",
    "    passage = ''.join([elem.replace('[^\\w\\s]','') for elem in passage])\n",
    "    #remove digits\n",
    "    #passage = ''.join([elem for elem in passage if not elem.isdigit()])\n",
    "    \n",
    "    # ??? common word\n",
    "    #freq = pd.Series(passage.split()).value_counts()[:10]\n",
    "    \n",
    "    #lemmatization\n",
    "    lemmatizer = WordNetLemmatizer()\n",
    "    passage = ' '.join(lemmatizer.lemmatize(elem) for elem in passage.split())\n",
    "    unlabeled_cleaned.append(passage)"
   ]
  },
  {
   "cell_type": "code",
   "execution_count": 133,
   "metadata": {},
   "outputs": [
    {
     "data": {
      "text/plain": [
       "'partiescontroller estate duty versus zakihigh court judicature calcuttajudges honourable mr justice ajit kumar sengupta amp honourable mr justice k yusufmatter 436 1981doj 16 08 1988advocates appeared appearing party c moitra b k naha advocate judgmentajit k sengupta j 1 instance controller estate duty west bengal following question law referred court section 64 1 estate duty act 1953 whether fact circumstance case method valuation prescribed rule 1d wealth tax rule 1957 applied valuation unquoted share held deceased purpose estate duty fc 2 fact leading reference one sk md naqui died august 27 1969 deceased time death held share detinners pvt ltd metale product pvt ltd bengal cold storage pvt ltd unquoted share assistant controller valuating share break method taken account value goodwill company though shown balance sheet company concerned way valued share 1 detinners pvt ltd r 4 732 per share 2 metale product pvt ltd r 259 20 per share 3 bengal cold storage pvt ltd r 73 60 per share fc 3 aggrieved said action assistant controller assessee brought matter way appeal appellate controller strength decision mysore high court ced v j krishna murthy 19741 96 itr 87 appellate controller held case assistant controller add value goodwill company concerned respective asset determine value share break value method held rule 1d wealth tax rule 1957 constitutes sound basis valuation unquoted share estate duty proceeding accordingly strength said rule 1d valued said share date death deceased r 2 354 per share case detinners pvt ltd r 162 per share case metale product pvt ltd r 55 29 per share case bengal cold storage pvt ltd 4 departmental representative strength decision calcutta high court controller estate duty v biswanath rungta 1968 67 itr 748 urged tribunal appellate controller erred valuing aforesaid share holding goodwill added valuing share three company question break value method 5 learned counsel accountable person relied order appellate controller point tribunal gave consideration argument party upheld order appellate controller estate duty observing admitted position share question quoted stock exchange section 36 estate duty act 1953 principal value share estimated price opinion controller would fetch sold open market time deceased death rule made 1953 act prescribing manner value unquoted share may determined purpose estate duty laid mysore high court case ced v j krishna murthy 1974 96 itr 87 followed appellate controller absence rule 1953 act valuation purpose act made accordance well recognised method valuation followed india position accepted assistant controller valued share question break value method held mysore high court aforesaid decision method valuation prescribed rule 1d wealth tax rule 1957 statutorily recognised method valuation unquoted equity share country would wrong adopt method valuation purpose estate duty also said rule looked purpose knowing manner breakup method valuation one recognised method valuation appellate controller therefore acted correctly matter stage assistant controller cannot complain adopted break method valuation share say strength decision supreme court cwt v mahadeo jalan 1972 86 itr 621 break value method correct method therefore fact circumstance case uphold valuation share question made appellate controller 6 according controller estate duty following question law arise aforesaid order tribunal 1 whether fact circumstance case tribunal justified holding method valuation prescribed rule 1d wealth tax rule 1957 applicable valuation unquoted share purpose estate duty ignoring provision section 36 37 estate duty act 1953 2 wealth tax act valuation unquoted share done accordance wealth tax amendment rule 1967 taking last published balance sheet basis whether tribunal right placing value purpose estate duty assessment resulting non consideration item covered wealth tax rule going determination value share estate duty purpose 7 appellate tribunal hearing side declined refer question 2 record nothing argument support stand taken revenue involved question 1 thus referred court question 1 already set 8 mr c moitra learned advocate appearing revenue submitted decision mysore high court case ced v j krishna murthy 1974 96 itr 87 followed appreciate submission known controller estate duty aggrieved appellate controller following decision case held hd valuation share made term rule 1d wealth tax rule 1957 tribunal contention raised goodwill added valuing share company question break value method court however revenue contending tribunal directed valuation made term rule 1d wealth tax rule 1957 loss understand submission revenue tribunal decided appellate controller right directing adoption rule 1d wealth tax rule 1957 could revenue aggrieved said order one misconceived reference brought court fact case answer question reference saying method valuation prescribed rule 1d wealth tax rule 1957 applied valuation unquoted share held deceased purpose estate duty order cost hd'"
      ]
     },
     "execution_count": 133,
     "metadata": {},
     "output_type": "execute_result"
    }
   ],
   "source": [
    "unlabeled_cleaned[10]"
   ]
  }
 ],
 "metadata": {
  "kernelspec": {
   "display_name": "Python 3",
   "language": "python",
   "name": "python3"
  },
  "language_info": {
   "codemirror_mode": {
    "name": "ipython",
    "version": 3
   },
   "file_extension": ".py",
   "mimetype": "text/x-python",
   "name": "python",
   "nbconvert_exporter": "python",
   "pygments_lexer": "ipython3",
   "version": "3.7.0"
  }
 },
 "nbformat": 4,
 "nbformat_minor": 2
}
